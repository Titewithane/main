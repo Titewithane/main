{
 "cells": [
  {
   "cell_type": "code",
   "execution_count": 2,
   "metadata": {},
   "outputs": [],
   "source": [
    "import numpy as np"
   ]
  },
  {
   "cell_type": "markdown",
   "metadata": {},
   "source": [
    "<h5>1. Use the Bisection method to find solution, accurate to within 10^-6 for the equation 2sin(πx) = x+1 for 0 <= x <= 0.5 and 0.5 <= x <= 1. </h5>\n"
   ]
  },
  {
   "cell_type": "code",
   "execution_count": 24,
   "metadata": {},
   "outputs": [
    {
     "name": "stdout",
     "output_type": "stream",
     "text": [
      "0.75\n",
      "0.875\n",
      "0.8125\n",
      "0.84375\n",
      "0.828125\n",
      "0.8359375\n",
      "0.83203125\n",
      "0.833984375\n",
      "0.8330078125\n",
      "0.83349609375\n",
      "0.833251953125\n",
      "0.8333740234375\n",
      "0.83331298828125\n",
      "0.833343505859375\n",
      "0.8333282470703125\n",
      "0.8333358764648438\n",
      "0.8333320617675781\n",
      "0.8333339691162109\n"
     ]
    },
    {
     "data": {
      "text/plain": [
       "0.8333330154418945"
      ]
     },
     "execution_count": 24,
     "metadata": {},
     "output_type": "execute_result"
    }
   ],
   "source": [
    "def f(x):\n",
    "    return 2*(np.sin(np.pi * x)) - 1 \n",
    "\n",
    "# bisection method\n",
    "def bisection(a, b, TOL, N0):\n",
    "    i = 1\n",
    "    while i <= N0:\n",
    "        p = a + (b - a)/2\n",
    "        if f(p) == 0 or (b-a)/2 < TOL: # (b-a)/2 is value difference between \n",
    "            return p\n",
    "        print(p)\n",
    "        if np.sign(f(p) * f(a)) == 1: \n",
    "            a = p\n",
    "        else :\n",
    "            b = p\n",
    "        i = i + 1\n",
    "    return 'method failed'\n",
    "\n",
    "# 0 <= x <= 0.5\n",
    "# bisection(0, 0.5, 10 ** -6, 30)\n",
    "\n",
    "# 0.5 <= x <= 1\n",
    "bisection(0.5, 1, 10**-6, 30)"
   ]
  },
  {
   "cell_type": "markdown",
   "metadata": {},
   "source": [
    "<h5>2. Use a fixed-point iteration method to determine a solution accurate to within 10^-6 for the equation 2sin(πx) = x+1 for 0 <= x <= 0.5 using p0 = 0</h5>"
   ]
  },
  {
   "cell_type": "code",
   "execution_count": 31,
   "metadata": {},
   "outputs": [
    {
     "name": "stdout",
     "output_type": "stream",
     "text": [
      "0.16666666666666669\n",
      "0.19825185951473365\n",
      "0.20448512550729422\n",
      "0.20572599319270166\n",
      "0.20597345018683935\n",
      "0.20602281607276537\n",
      "0.2060326649033811\n",
      "0.20603462983976\n",
      "0.20603502186455253\n"
     ]
    },
    {
     "data": {
      "text/plain": [
       "0.20603502186455253"
      ]
     },
     "execution_count": 31,
     "metadata": {},
     "output_type": "execute_result"
    }
   ],
   "source": [
    "# out of bound!\n",
    "def f(x):\n",
    "    return 2*(np.sin(np.pi * x)) - 1 \n",
    "\n",
    "# reformulation\n",
    "def g(x):\n",
    "    return (np.arcsin((x+1)/2))/np.pi\n",
    "\n",
    "def fixedPointIteration(p0, TOL, N0) :\n",
    "    i = 1\n",
    "    while i <= N0 : \n",
    "        p = g(p0)\n",
    "        print(p)\n",
    "        if np.abs(p - p0) < TOL :\n",
    "            return p \n",
    "        i = i + 1\n",
    "        p0 = p \n",
    "    return 'method failed'\n",
    "\n",
    "fixedPointIteration(0, 10 ** -6, 10)"
   ]
  },
  {
   "cell_type": "markdown",
   "metadata": {},
   "source": [
    "<h5>3 Use Newton’s method to find the solution accurate to within 10^-6 for the equation 2x^2 + 1 = 4x cos(x) - cos(2x) for 0 <= x <= 1. </h5>"
   ]
  },
  {
   "cell_type": "code",
   "execution_count": 32,
   "metadata": {},
   "outputs": [
    {
     "name": "stdout",
     "output_type": "stream",
     "text": [
      "\n",
      "\n",
      "0.5\n",
      "0.6276112085528182\n",
      "0.6848881310197824\n",
      "0.7123297687588076\n",
      "0.7257887251583034\n",
      "0.732456721516473\n",
      "0.7357758118245141\n",
      "0.7374316858106165\n",
      "0.7382587118654941\n",
      "0.7386719980077356\n",
      "0.7388785844632244\n",
      "0.738981863550264\n",
      "0.739033499560452\n",
      "0.7390593166824445\n",
      "0.73907222502224\n",
      "0.7390786791374192\n",
      "0.7390819061811673\n",
      "0.7390835196902279\n"
     ]
    },
    {
     "data": {
      "text/plain": [
       "0.739084326456241"
      ]
     },
     "execution_count": 32,
     "metadata": {},
     "output_type": "execute_result"
    }
   ],
   "source": [
    "def f(x):\n",
    "    return 2 * x ** 2 - 4 * (x * np.cos(x)) + 1 + np.cos(2 * x)\n",
    "\n",
    "def df(x):\n",
    "    return 4 * x + 4 * x * np.sin(x) - 4 * np.cos(x) - 2 * np.sin(2 * x)\n",
    "\n",
    "print('\\n')\n",
    "\n",
    "def newton(p0, TOL, N0): \n",
    "    i = 1\n",
    "    while i <= N0:\n",
    "        p = p0 - f(p0)/df(p0)\n",
    "        if np.abs(p - p0) < TOL:\n",
    "            return p\n",
    "        print(p)\n",
    "        i = i + 1\n",
    "        p0 = p\n",
    "\n",
    "newton(0, 10 ** -6, 30)"
   ]
  },
  {
   "cell_type": "markdown",
   "metadata": {},
   "source": [
    "<h5>4. Use Modified Newton’s method to find the solution accurate to within 10^-6 for the equation 2x^2 + 1 = 4x cos(x) - cos(2x) for 0 <= x <= 1.</h5>\n"
   ]
  },
  {
   "cell_type": "code",
   "execution_count": 13,
   "metadata": {},
   "outputs": [
    {
     "name": "stdout",
     "output_type": "stream",
     "text": [
      "0.5\n",
      "0.7216635041043578\n",
      "0.7390161853007045\n",
      "0.7390851321631436\n",
      "0.739085130995173\n"
     ]
    },
    {
     "data": {
      "text/plain": [
       "0.739085130995173"
      ]
     },
     "execution_count": 13,
     "metadata": {},
     "output_type": "execute_result"
    }
   ],
   "source": [
    "def f(x):\n",
    "    return 2*x**2 - 4*x*np.cos(x) + 1 + np.cos(2*x)\n",
    "\n",
    "def df(x):\n",
    "    return 4*x + 4*x*np.sin(x) - 4*np.cos(x) - 2*np.sin(2*x)\n",
    "\n",
    "def d2f(x):\n",
    "    return 4 + 4*x*np.cos(x) + 8*np.sin(x) - 4*np.cos(2*x)\n",
    "\n",
    "def modifiedNewton(p0, TOL, N0):\n",
    "    i = 1\n",
    "    while i <= N0:\n",
    "        p = p0 - (f(p0)*df(p0))/(df(p0)**2 - f(p0)*d2f(p0))\n",
    "        print(p)\n",
    "        if np.abs(p - p0) < TOL:\n",
    "            return p\n",
    "        i = i + 1\n",
    "        p0 = p\n",
    "\n",
    "modifiedNewton(0, 10**-6, 10)\n"
   ]
  },
  {
   "cell_type": "markdown",
   "metadata": {},
   "source": [
    "<h5>5. Use a fixed-point iteration with Steffensen’s method to find a solution accurate to within 10^-6 for the equation 2sin(πx) = x+1 for 0 <= x <= 0.5 using p0 = 0</h4>"
   ]
  },
  {
   "cell_type": "code",
   "execution_count": 23,
   "metadata": {},
   "outputs": [
    {
     "name": "stdout",
     "output_type": "stream",
     "text": [
      "0.20563721280595762\n",
      "0.20603511770677943\n",
      "0.20603511957096587\n"
     ]
    },
    {
     "data": {
      "text/plain": [
       "0.20603511957096587"
      ]
     },
     "execution_count": 23,
     "metadata": {},
     "output_type": "execute_result"
    }
   ],
   "source": [
    "def g(x):\n",
    "    return (np.arcsin((x+1)/2))/np.pi\n",
    "\n",
    "def steffensen(p0, TOL, N0):\n",
    "    i = 1\n",
    "    while i <= N0:\n",
    "        p1 = g(p0)\n",
    "        p2 = g(p1)\n",
    "        p = p0 - ((p1 - p0)**2)/(p2 - 2*p1 + p0)\n",
    "        print(p)\n",
    "        if np.abs(p - p0) < TOL:\n",
    "            return p\n",
    "        p0 = p\n",
    "        i = i + 1\n",
    "    \n",
    "steffensen(0, 10**-6, 10)"
   ]
  }
 ],
 "metadata": {
  "kernelspec": {
   "display_name": "Python 3",
   "language": "python",
   "name": "python3"
  },
  "language_info": {
   "codemirror_mode": {
    "name": "ipython",
    "version": 3
   },
   "file_extension": ".py",
   "mimetype": "text/x-python",
   "name": "python",
   "nbconvert_exporter": "python",
   "pygments_lexer": "ipython3",
   "version": "3.11.4"
  },
  "orig_nbformat": 4
 },
 "nbformat": 4,
 "nbformat_minor": 2
}
